{
  "nbformat": 4,
  "nbformat_minor": 0,
  "metadata": {
    "colab": {
      "name": "Train_Yolov3_masque.ipynb",
      "provenance": [],
      "collapsed_sections": []
    },
    "kernelspec": {
      "name": "python3",
      "display_name": "Python 3"
    },
    "accelerator": "GPU"
  },
  "cells": [
    {
      "cell_type": "code",
      "metadata": {
        "id": "e20WvA00-4QE"
      },
      "source": [
        "# *******************************************************\n",
        "# Copyright (C) 2020 AMELLAL Oussama <ouss.amellal@gmail.com>\n",
        "#\n",
        "# This file is part of 'Yolov3_2_classes_mask' project.\n",
        "#\n",
        "# 'Yolov3_2_classes_mask' project can not be copied and/or distributed without the express permission of AMELLAL Oussama\n",
        "#  *******************************************************"
      ],
      "execution_count": null,
      "outputs": []
    },
    {
      "cell_type": "markdown",
      "metadata": {
        "id": "FVY2MBuNm_wK"
      },
      "source": [
        "**0) Préparation de la base de données**"
      ]
    },
    {
      "cell_type": "code",
      "metadata": {
        "id": "0g4ov8E6ud3r"
      },
      "source": [
        "# Ajouter vos images sélectionnées dans un dossier appelé 'imagesmasque' par exemple\n",
        "# Télécharger la dernière version de  labelImg (v1.8.0 pour windows) : https://tzutalin.github.io/labelImg/ \n",
        "# 1. Extraire le fichier .Zip téléchargé\n",
        "# 2. Cherchez un dossier nommé 'data' ce dossier contient le fichier 'predefined_classes' ouvrez ce fichier pour le modifier.\n",
        "# supprimez les noms de classes présentes dans le fichier et ajoutez les noms de vos classes dans notre exemple on détecte\n",
        "# deux classes, ainsi on ajoute deux lignes :\n",
        "# masque\n",
        "# pas de masque\n",
        "# Enregistrez et fermez le fichier.\n",
        "# 3. Exécuter le fichier 'LabelImg.exe'\n",
        "# 4. La fenêtre du logiciel LabelImg s'ouvre, Changer le format de sortie des fichiers à YOLO en cliquant sur le bouton  '</> PascalVOC' \n",
        "# 5. Cliquez sur 'Open Dir'\n",
        "# 6. Sélectionnez le dossier où vous avez placé vos images.\n",
        "# 7. Une image de la base de données va s'afficher, Cliquez sur 'Create RectBox' et sélectionnez avec la sourie les objets ou l'objet présents dans l'images.\n",
        "# 8. Une petite fenêtre va s'afficher vous donnant le choix de sélectionner la classe de l'objet, sélectionnez la classe et cliquez sur Ok.\n",
        "# 9. Cliquez sur save et cliquez sur 'Next Image'\n",
        "# 10. Refaire les étapes 7, 8 et 9 pour tous les images de la base de données.\n",
        "# 11. Ouvrez le fichier 'imagesmasque' et sélectionnez (ctrl + A) toutes les images et les fichiers '.txt' présents dans le dossier puis un clique droit sur les fichiers sélectionnés \n",
        "# et cliquez 'Ajouter à l'archive...' changez le format de fichier à '.Zip' et cliquez Ok, un fichier 'imagesmasque.zip' sera créé. \n",
        "\n",
        "\n",
        "# Remarque : vérifiez que pour chaque image un fichier '.txt' a été créé, ce fichier contient 5 valeurs pour chaque objet présent dans l'image : <object-class> <x> <y> <width> <height>\n",
        "# <object-class> : un nombre entier qui représente le label de la classe, ce nombre est entre 0 et (Nombre de classes-1)\n",
        "# <x> <y> <width> <height> : des valeurs flottantes relatives à la largeur et à la hauteur de l'image, varient entre 0,0 et 1,0.\n",
        "# <x> <y> : sont le centre du rectangle, et <width> <height> la largeur et la hauteur du rectangle sélectionné.\n",
        "\n",
        "# Après la création de la base de données créer un dossier dans votre Google Drive et nommé-le 'yolov3masque' puis ajoutez dans ce dossier le fichier 'imagesmasque.zip'\n"
      ],
      "execution_count": null,
      "outputs": []
    },
    {
      "cell_type": "markdown",
      "metadata": {
        "id": "x8RyOll3ppov"
      },
      "source": [
        "**1) Connexion à google drive**\n"
      ]
    },
    {
      "cell_type": "code",
      "metadata": {
        "id": "bwp6NIrsZZFP"
      },
      "source": [
        "# Vérifier si le GPU NVIDIA est activé\n",
        "#smi : System Management Interface\n",
        "#Documentation smi : http://developer.download.nvidia.com/compute/DCGM/docs/nvidia-smi-367.38.pdf\n",
        "!nvidia-smi"
      ],
      "execution_count": null,
      "outputs": []
    },
    {
      "cell_type": "code",
      "metadata": {
        "id": "9e9ZW3sqMEPO"
      },
      "source": [
        "# Charger vos fichiers présents dans votre Google Drive\n",
        "# Cette commande vous donnera un lien pour donner l'autorisation à COLab de charger des fichiers présents \n",
        "# dans votre compte google Drive, puis vous devrez copier-coller la clé générée.\n",
        "\n",
        "from google.colab import drive\n",
        "drive.mount(\"/content/drive\", force_remount=True)\n",
        "# Pour simplifier les chemins, On utilise un lien symbolique, puis vous pourrez accéder à vos fichiers Google Drive en utilisant simplement le chemin  /mydrive  \n",
        "!ln -s /content/drive/My\\ Drive/ /mydrive\n",
        "!ls /mydrive\n",
        " "
      ],
      "execution_count": null,
      "outputs": []
    },
    {
      "cell_type": "code",
      "metadata": {
        "id": "pjiY8967oFac"
      },
      "source": [
        "%cd /mydrive/yolov3masque \n",
        "!ls # lister les fichiers présents dans le dossier 'yolov3masque'"
      ],
      "execution_count": null,
      "outputs": []
    },
    {
      "cell_type": "markdown",
      "metadata": {
        "id": "YvuEOkBapy7v"
      },
      "source": [
        " **2) Cloner Darknet**\n",
        "\n"
      ]
    },
    {
      "cell_type": "code",
      "metadata": {
        "id": "-KRWO5cUpMJ1"
      },
      "source": [
        "# Cloner daknet dans google colab\n",
        "!git clone https://github.com/AlexeyAB/darknet"
      ],
      "execution_count": null,
      "outputs": []
    },
    {
      "cell_type": "markdown",
      "metadata": {
        "id": "7gDOF3mU-TAn"
      },
      "source": [
        "**3) Compiler Darknet avec le GPU**\n"
      ]
    },
    {
      "cell_type": "code",
      "metadata": {
        "id": "5H-Taj06Tw1c"
      },
      "source": [
        "# Activer le GPU et OPENCV \n",
        "%cd darknet\n",
        "!sed -i 's/OPENCV=0/OPENCV=1/' Makefile\n",
        "!sed -i 's/GPU=0/GPU=1/' Makefile\n",
        "!sed -i 's/CUDNN=0/CUDNN=1/' Makefile\n",
        "!make"
      ],
      "execution_count": null,
      "outputs": []
    },
    {
      "cell_type": "markdown",
      "metadata": {
        "id": "gAOLtA_qI9vF"
      },
      "source": [
        "**4) Configurer le réseau Darknet pour le Training de YOLOv3**\n",
        "\n"
      ]
    },
    {
      "cell_type": "code",
      "metadata": {
        "id": "s-RpscgU853t"
      },
      "source": [
        "# Création du fichier de configuration yolov3\n",
        "!cp cfg/yolov3.cfg cfg/yolov3_training.cfg # Création d'une copie du fichier yolov3.cfg\n",
        "!ls"
      ],
      "execution_count": null,
      "outputs": []
    },
    {
      "cell_type": "code",
      "metadata": {
        "id": "5ZgVQRop_vwR"
      },
      "source": [
        "!sed -i 's/batch=1/batch=64/' cfg/yolov3_training.cfg\n",
        "!sed -i 's/subdivisions=1/subdivisions=16/' cfg/yolov3_training.cfg\n",
        "!sed -i 's/max_batches = 500200/max_batches = 4000/' cfg/yolov3_training.cfg\n",
        "!sed -i '610 s@classes=80@classes=2@' cfg/yolov3_training.cfg\n",
        "!sed -i '696 s@classes=80@classes=2@' cfg/yolov3_training.cfg\n",
        "!sed -i '783 s@classes=80@classes=2@' cfg/yolov3_training.cfg\n",
        "!sed -i '603 s@filters=255@filters=21@' cfg/yolov3_training.cfg\n",
        "!sed -i '689 s@filters=255@filters=21@' cfg/yolov3_training.cfg\n",
        "!sed -i '776 s@filters=255@filters=21@' cfg/yolov3_training.cfg\n",
        "# Explications :\n",
        "# Batch : nombre de données (images) utilisées dans une itération (c'est-à-dire, une mise à jour du gradient) \n",
        "# de l'entraînement du modèle. Plus la taille du lot est élevée, plus vous aurez besoin d'espace mémoire.\n",
        "# Subdivisions = 16 -> Diviser le lot en 16 \"mini-lots\" donc 64/16 = 4 images par \"mini-lots\" et ceci est envoyé au GPU pour le traitement.\n",
        "# Max_batches : Le nombre maximum d'itérations pour entraîner notre réseau de neurones\n",
        "# classes=80@classes=1 : La configuration par défaut de yolov3 est entraîner à détecter 80 classes, \n",
        "# dans notre exemple on détecte une seule classe 'turtle' ainsi on remplace 80 par 1\n",
        "# filters=255@filters=18 : règle pour calculer le nombre de filtres : filters=(classes + 5)x3 \n",
        "# Donc, si le nombre de classes = 1, alors filters = 18"
      ],
      "execution_count": null,
      "outputs": []
    },
    {
      "cell_type": "code",
      "metadata": {
        "id": "nscRN-X2Mr3d"
      },
      "source": [
        "# Create folder on google drive so that we can save there the weights\n",
        "#!mkdir \"yolov3masque\""
      ],
      "execution_count": null,
      "outputs": []
    },
    {
      "cell_type": "code",
      "metadata": {
        "id": "7AIBw_psIclz"
      },
      "source": [
        "!echo -e 'masque\\npas de masque' > data/obj.names # le fichier 'obj.names' présent dans le chemin darknet/data va contenir les labels des classes( une seule pour nous 'tortue')\n",
        "!echo -e 'classes= 2\\ntrain  = data/train.txt\\nvalid  = data/test.txt\\nnames = data/obj.names\\nbackup = /mydrive/yolov3masque' > data/obj.data\n",
        "# L'option -e est utilisée pour activer l'interprétation par Echo d'instances supplémentaires du caractère de nouvelle ligne. \n",
        "# Le fichier 'obj.data' va contenir les éléments suivants : \n",
        "# classes : le nombre de classes qu'on veut détecter.\n",
        "# train.txt : le fichier texte 'train.txt' va contenir le chemin de toutes les images de la base de données.\n",
        "# backup : est l'endroit où vous souhaitez stocker le fichier de poids yolo, ces fichiers seront les résultats de notre apprentissage et qui vont nous permettre de tester notre modèle."
      ],
      "execution_count": null,
      "outputs": []
    },
    {
      "cell_type": "code",
      "metadata": {
        "id": "eZlkzFMW7I_N"
      },
      "source": [
        "# Charger les poids darknet model 53\n",
        "!wget https://pjreddie.com/media/files/darknet53.conv.74"
      ],
      "execution_count": null,
      "outputs": []
    },
    {
      "cell_type": "markdown",
      "metadata": {
        "id": "9RbVKJjoncW2"
      },
      "source": [
        "**5) Extraction des images de la base de données**"
      ]
    },
    {
      "cell_type": "code",
      "metadata": {
        "id": "jhb5nZvsQ_96"
      },
      "source": [
        "# Les images sont dans le fichier 'imagesmasque.zip' qui est ajouté dans le dossier 'yolov3masque' de Google Drive\n",
        "!mkdir data/obj # Création d'un dossier 'obj' dans le chemin darknet/data, ce dossier va contenir toutes les images + fichiers '.txt' de la base de données.\n",
        "!unzip /mydrive/yolov3masque/imagesmasque.zip -d data/obj"
      ],
      "execution_count": null,
      "outputs": []
    },
    {
      "cell_type": "code",
      "metadata": {
        "id": "5I_0ht7ITMUu"
      },
      "source": [
        "import glob\n",
        "images_list = glob.glob(\"data/obj/*.jpg\" )# list de toutes les images de la base de données.\n",
        "print(images_list)"
      ],
      "execution_count": null,
      "outputs": []
    },
    {
      "cell_type": "code",
      "metadata": {
        "id": "EzygoAtMSnon"
      },
      "source": [
        "# Création du fichier  train.txt \n",
        "file = open(\"data/train.txt\", \"w\") \n",
        "file.write(\"\\n\".join(images_list)) \n",
        "file.close() "
      ],
      "execution_count": null,
      "outputs": []
    },
    {
      "cell_type": "code",
      "metadata": {
        "id": "xBLj32N1wohN"
      },
      "source": [
        "!ls"
      ],
      "execution_count": null,
      "outputs": []
    },
    {
      "cell_type": "markdown",
      "metadata": {
        "id": "CeSiuLrXoAjc"
      },
      "source": [
        "**6) Commencer le training**"
      ]
    },
    {
      "cell_type": "code",
      "metadata": {
        "id": "S3_g3jclUzMm"
      },
      "source": [
        "# Commencer le training\n",
        "!./darknet detector train \"/mydrive/yolov3masque/darknet/data/obj.data\" \"/mydrive/yolov3masque/darknet/cfg/yolov3_training.cfg\" \"/mydrive/yolov3masque/darknet/darknet53.conv.74\" -dont_show\n",
        "# A la fin du training récupérer les deux fichiers yolov3_training_last.weights et yolov3_training.cfg, ces fichiers sont utilisés pour tester votre modèle."
      ],
      "execution_count": null,
      "outputs": []
    }
  ]
}